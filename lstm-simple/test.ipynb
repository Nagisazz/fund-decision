{
 "cells": [
  {
   "cell_type": "code",
   "execution_count": 1,
   "metadata": {},
   "outputs": [
    {
     "name": "stdout",
     "output_type": "stream",
     "text": [
      "白酒 {'page': 3, 'code': '161725'}\n",
      "==================1\n",
      "start droupout:0,type:1\n",
      "num of x_train: 2909\tnum of y_train: 2909\n",
      "num of x_validation: 8\tnum of y_validation: 8\n",
      "new_model\n",
      "train_loss最后3次：[0.07861118018627167, 0.07680723071098328, 0.07708567380905151]\n",
      "val_loss最后3次：[0.3593885004520416, 0.3564543128013611, 0.35826432704925537]\n",
      "1/1 [==============================] - 1s 720ms/step\n",
      "未来6天实际百分比涨幅为：[-0.10449321 -0.4776848   0.61311004         nan         nan         nan]\n",
      "未来6天预测百分比涨幅为：[ 0.04556901 -0.923845   -0.04603414  0.8532793   0.28159222  0.54312074]\n",
      "未来6天实际净值为：[[2.868  2.8543 2.8718    nan    nan    nan]]\n",
      "未来6天预测净值为：[[2.83944126 2.81320923 2.81191419 2.83590767 2.84389337 2.85933914]]\n",
      "均方误差: 0.053537\n",
      "均方根误差: 0.231381\n",
      "平均绝对误差: 0.174882\n",
      "save_model,modelPath:./lstm-simple/model/801125/modelrmse.hdf5\n"
     ]
    }
   ],
   "source": [
    "from FundCodeCrawler import FundCodeCrawler\n",
    "from FundInfoCrawler import FundInfoCrawler\n",
    "from FundPredictor import FundPredictor\n",
    "\n",
    "funds = {\n",
    "  \"白酒\" : {\n",
    "    \"page\" : 3,\n",
    "    \"code\" : '161725'\n",
    "  }\n",
    "}\n",
    "for plateName,value in funds.items():\n",
    "    print(plateName,value)\n",
    "    # fundCodeCraw = FundCodeCrawler()\n",
    "    # plateCode = fundCodeCraw.craw_page(plateName,value['page'])\n",
    "\n",
    "    # fundInfoCraw = FundInfoCrawler(plateCode,value['code'])\n",
    "    # fundInfoCraw.getFundTrain()\n",
    "    # fundInfoCraw.getFundTest()\n",
    "\n",
    "    # fundPredictor = FundPredictor(plateCode)\n",
    "    fundPredictor = FundPredictor('801125')\n",
    "    i = 1\n",
    "    while True:\n",
    "      print('=================='+str(i))\n",
    "      i = i+1\n",
    "      if fundPredictor.predictor(0,1,False,0.28) < 0.28:\n",
    "        # fundPredictor.predictor(0,2,True,0.26)\n",
    "        break\n",
    "\n",
    "    # fundPredictor.predictor(0,2,True,0.26)\n"
   ]
  }
 ],
 "metadata": {
  "kernelspec": {
   "display_name": "Python 3.10.4 64-bit",
   "language": "python",
   "name": "python3"
  },
  "language_info": {
   "codemirror_mode": {
    "name": "ipython",
    "version": 3
   },
   "file_extension": ".py",
   "mimetype": "text/x-python",
   "name": "python",
   "nbconvert_exporter": "python",
   "pygments_lexer": "ipython3",
   "version": "3.10.4"
  },
  "orig_nbformat": 4,
  "vscode": {
   "interpreter": {
    "hash": "889827a74b2ff9df761b6e1315c2e92b443ddf025fd5f2cf0e5baf7c97985941"
   }
  }
 },
 "nbformat": 4,
 "nbformat_minor": 2
}
