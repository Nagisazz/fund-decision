{
 "cells": [
  {
   "cell_type": "code",
   "execution_count": 9,
   "metadata": {},
   "outputs": [
    {
     "name": "stdout",
     "output_type": "stream",
     "text": [
      "1.222sds1.222d\n"
     ]
    }
   ],
   "source": [
    "import numpy as np\n",
    "import matplotlib.pyplot as plt\n",
    "from sklearn.preprocessing import MinMaxScaler\n",
    "\n",
    "x = np.array([1,2,3,4,5,6,7,8,9,10,11,12]) \n",
    "\n",
    "# scaler = MinMaxScaler(feature_range=(-1, 1))\n",
    "# x_train_scaled = scaler.fit_transform(x.reshape(-1,1))\n",
    "# print(x_train_scaled)\n",
    "\n",
    "# predict_validation = scaler.inverse_transform(x_train_scaled)\n",
    "\n",
    "\n",
    "# x = np.array([[0,1,2,3],[4,5,6,7],[8,9,10,11],[12,13,14,15]])  # 定义二维数组\n",
    "\n",
    "a = 'asdsad'\n",
    "a = a.replace('a',str(1.222))\n",
    "print(a)"
   ]
  }
 ],
 "metadata": {
  "kernelspec": {
   "display_name": "Python 3.10.4 64-bit",
   "language": "python",
   "name": "python3"
  },
  "language_info": {
   "codemirror_mode": {
    "name": "ipython",
    "version": 3
   },
   "file_extension": ".py",
   "mimetype": "text/x-python",
   "name": "python",
   "nbconvert_exporter": "python",
   "pygments_lexer": "ipython3",
   "version": "3.10.4"
  },
  "orig_nbformat": 4,
  "vscode": {
   "interpreter": {
    "hash": "889827a74b2ff9df761b6e1315c2e92b443ddf025fd5f2cf0e5baf7c97985941"
   }
  }
 },
 "nbformat": 4,
 "nbformat_minor": 2
}
